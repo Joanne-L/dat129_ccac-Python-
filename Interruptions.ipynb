{
 "cells": [
  {
   "cell_type": "markdown",
   "metadata": {},
   "source": [
    "# *Python 2 Final Project*\n",
    "# *What is the Impact of Interruptions on Productivity?*\n",
    "\n",
    "#### All files are located in Git Hub: https://github.com/Joanne-L/dat129_ccac-Python-\n",
    "\n",
    "## *Python Code*\n",
    "\n",
    "###  - Data Gathering-Interruptions"
   ]
  },
  {
   "cell_type": "markdown",
   "metadata": {},
   "source": [
    " - This is the main body of he program and uses loops to gather input and write it to a csv file."
   ]
  },
  {
   "cell_type": "markdown",
   "metadata": {},
   "source": [
    "###  - Data Gathering-Task Completion\n"
   ]
  },
  {
   "cell_type": "markdown",
   "metadata": {},
   "source": [
    " -  This section accepts a series of inputs from the user regarding tasks completed on a specific day.\n",
    " -  This section will be added as part of hhe data visualization."
   ]
  },
  {
   "cell_type": "markdown",
   "metadata": {},
   "source": [
    "### - Data Processing and Data Output\n"
   ]
  },
  {
   "cell_type": "markdown",
   "metadata": {},
   "source": [
    " -  This section imports the csv and manipulates it to provide statistics that are then written to a database.\n",
    " -  The database information is used to prepare various charts and graphs.\n",
    " -  This section will be added as part of the data visalization."
   ]
  },
  {
   "cell_type": "markdown",
   "metadata": {},
   "source": [
    "## *Files*\n",
    "### Code for Data Gathering\n",
    " - InterruptionFunc.py\n",
    " #### Description\n",
    " The user press s to begin which logs the date and time. Each time there is \n",
    " a distraction the user will press a letter corresponding to the identity of\n",
    " interruption i for instant message v for visitor p for phone call or e for\n",
    " email t for text, m for meeting and b for break.  The date and time of the \n",
    " interruption is logged and the system waits for the user to press f to finish\n",
    " the interruption and the date and time are again logged.  The user may press\n",
    " q to quit logging at the end of the day.  The stop date and time is logged \n",
    " and the program is mpended. All data is written to a csv file.\n"
   ]
  },
  {
   "cell_type": "markdown",
   "metadata": {},
   "source": [
    "#### Imports Needed\n",
    " - csv and datetime"
   ]
  },
  {
   "cell_type": "markdown",
   "metadata": {},
   "source": [
    "#### Key Code Components"
   ]
  },
  {
   "cell_type": "code",
   "execution_count": 1,
   "metadata": {},
   "outputs": [
    {
     "ename": "NameError",
     "evalue": "name 'GatherInput1' is not defined",
     "output_type": "error",
     "traceback": [
      "\u001b[1;31m---------------------------------------------------------------------------\u001b[0m",
      "\u001b[1;31mNameError\u001b[0m                                 Traceback (most recent call last)",
      "\u001b[1;32m<ipython-input-1-b85e85003176>\u001b[0m in \u001b[0;36m<module>\u001b[1;34m\u001b[0m\n\u001b[0;32m      6\u001b[0m     \u001b[0mProcess\u001b[0m \u001b[1;33m=\u001b[0m \u001b[0mLogInterruptions\u001b[0m\u001b[1;33m(\u001b[0m\u001b[1;33m)\u001b[0m\u001b[1;33m\u001b[0m\u001b[1;33m\u001b[0m\u001b[0m\n\u001b[0;32m      7\u001b[0m     \u001b[0mprint\u001b[0m\u001b[1;33m(\u001b[0m\u001b[1;34mf\"Logging has been terminated:\\n{Process}\"\u001b[0m\u001b[1;33m)\u001b[0m\u001b[1;33m\u001b[0m\u001b[1;33m\u001b[0m\u001b[0m\n\u001b[1;32m----> 8\u001b[1;33m \u001b[0mmain\u001b[0m\u001b[1;33m(\u001b[0m\u001b[1;33m)\u001b[0m\u001b[1;33m\u001b[0m\u001b[1;33m\u001b[0m\u001b[0m\n\u001b[0m",
      "\u001b[1;32m<ipython-input-1-b85e85003176>\u001b[0m in \u001b[0;36mmain\u001b[1;34m()\u001b[0m\n\u001b[0;32m      2\u001b[0m \u001b[1;31m# Use main to begin and end program\u001b[0m\u001b[1;33m\u001b[0m\u001b[1;33m\u001b[0m\u001b[1;33m\u001b[0m\u001b[0m\n\u001b[0;32m      3\u001b[0m \u001b[1;32mdef\u001b[0m \u001b[0mmain\u001b[0m\u001b[1;33m(\u001b[0m\u001b[1;33m)\u001b[0m\u001b[1;33m:\u001b[0m\u001b[1;33m\u001b[0m\u001b[1;33m\u001b[0m\u001b[0m\n\u001b[1;32m----> 4\u001b[1;33m     \u001b[0mEntry\u001b[0m \u001b[1;33m=\u001b[0m \u001b[0mGatherInput1\u001b[0m\u001b[1;33m(\u001b[0m\u001b[1;33m)\u001b[0m\u001b[1;33m\u001b[0m\u001b[1;33m\u001b[0m\u001b[0m\n\u001b[0m\u001b[0;32m      5\u001b[0m     \u001b[0mprint\u001b[0m\u001b[1;33m(\u001b[0m\u001b[1;34mf\"The Start Time has been logged:\\n{Entry}\"\u001b[0m\u001b[1;33m)\u001b[0m\u001b[1;33m\u001b[0m\u001b[1;33m\u001b[0m\u001b[0m\n\u001b[0;32m      6\u001b[0m     \u001b[0mProcess\u001b[0m \u001b[1;33m=\u001b[0m \u001b[0mLogInterruptions\u001b[0m\u001b[1;33m(\u001b[0m\u001b[1;33m)\u001b[0m\u001b[1;33m\u001b[0m\u001b[1;33m\u001b[0m\u001b[0m\n",
      "\u001b[1;31mNameError\u001b[0m: name 'GatherInput1' is not defined"
     ]
    }
   ],
   "source": [
    "# use function calls to begin and end data collection\n",
    "# Use main to begin and end program\n",
    "def main():\n",
    "    Entry = GatherInput1()\n",
    "    print(f\"The Start Time has been logged:\\n{Entry}\")\n",
    "    Process = LogInterruptions()\n",
    "    print(f\"Logging has been terminated:\\n{Process}\")\n",
    "main()"
   ]
  },
  {
   "cell_type": "code",
   "execution_count": null,
   "metadata": {},
   "outputs": [],
   "source": [
    "# read in file for input display\n",
    "with open ('Msg_GIF1.txt') as GIF1:\n",
    "       GIF1 = GIF1.read()\n",
    "    Key = input(GIF1)"
   ]
  },
  {
   "cell_type": "code",
   "execution_count": null,
   "metadata": {},
   "outputs": [],
   "source": [
    "# write input to csv file\n",
    " with open('file.csv', 'a', newline = '\\n') as csvfile:\n",
    "        # creating a csv sriter object\n",
    "        csvwriter = csv.writer(csvfile)\n",
    "        # Write to the File\n",
    "        csvwriter.writerow(Entry)\n",
    "        # Close the File\n",
    "        csvfile.close()"
   ]
  },
  {
   "cell_type": "code",
   "execution_count": null,
   "metadata": {},
   "outputs": [],
   "source": [
    "# Use validation Lists to provide messaging and logging logic\n",
    "# Nested while loops are used to provide looping\n",
    " while Key not in Valid2:\n",
    "        # Process Entry and continue on if Entry is not found in Valid1\n",
    "        if Key not in Valid1: \n",
    "            # Print Error Message from File for invalid entry"
   ]
  },
  {
   "cell_type": "markdown",
   "metadata": {},
   "source": [
    "### Messages\n",
    "  - Msg_GIF1.txt\n",
    "  - Msg_GIF2.txt\n",
    "  - Msg_LIF1.txt\n",
    "  - Msg_LDF2.txt\n",
    "  - Msg_LIF3.txt\n",
    "  - Msg_LIF4.txt\n",
    "  - Msg_LIF5.txt"
   ]
  },
  {
   "attachments": {
    "image.png": {
     "image/png": "[encoded data removed]"
    }
   },
   "cell_type": "markdown",
   "metadata": {},
   "source": [
    "## *Data Input*\n",
    "### Interruption Logs\n",
    "#### Logs Start of Day, End -of Day, Beginning and  Ending of Interruptions\n",
    " -  file.csv\n",
    " -  ![image.png](attachment:image.png)\n",
    "### Tasks Completed by Category by Day\n",
    " - tasks.csv\n",
    " - ![image.png](attachment:image.png)"
   ]
  },
  {
   "cell_type": "markdown",
   "metadata": {},
   "source": [
    "## *Data Output*\n",
    "#### This section is not complete.  It will be completed as part of a Visualization Project\n",
    "A separate program ingests the csv files and manilpulates the data pushing it to data tables and then queries the tables to build statistics, charts and graphs.  \n",
    "### Statistics\n",
    "### Charts and Graphs"
   ]
  },
  {
   "cell_type": "markdown",
   "metadata": {},
   "source": [
    "I learned a lot doing this project.  It was the first project that I have ever done end to end.  Typically at work I act as a project manager and not the one doing the design and coding.  I'm happy with the end product in terms of the quality and functionality, however, I did make some mistakes that caused significant delays and caused me to fall short of my goals for today.  The biggest issue I had was aloting time to test and debug at work.  I had a version that logged the issues but didn't log the ending time, in additon to trying a few things to make it easier to log the details and to have all of the items logged.  If I had it to do again, I would have started working on the data manipulation sooner.  What I have written for that isn't ready for presentation at this time so it will have to be shelved for a later date.  Overall, I am really happy with my progress this semester.  I didn't depend on hours and hours of help from classmates, my teacher, or my friends who are professional developers....I did it all on my own and built my tool kit for future projects.  "
   ]
  }
 ],
 "metadata": {
  "kernelspec": {
   "display_name": "Python 3",
   "language": "python",
   "name": "python3"
  },
  "language_info": {
   "codemirror_mode": {
    "name": "ipython",
    "version": 3
   },
   "file_extension": ".py",
   "mimetype": "text/x-python",
   "name": "python",
   "nbconvert_exporter": "python",
   "pygments_lexer": "ipython3",
   "version": "3.8.3"
  }
 },
 "nbformat": 4,
 "nbformat_minor": 4
}
